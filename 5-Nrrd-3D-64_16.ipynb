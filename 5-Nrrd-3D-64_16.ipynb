{
 "cells": [
  {
   "cell_type": "code",
   "execution_count": 43,
   "metadata": {},
   "outputs": [],
   "source": [
    "# Seed value for reproducibility\n",
    "# Apparently you may use different seed values at each stage\n",
    "\n",
    "seed_value= 123\n",
    "\n",
    "import tensorflow as tf\n",
    "import random as rn\n",
    "import random"
   ]
  },
  {
   "cell_type": "code",
   "execution_count": 44,
   "metadata": {},
   "outputs": [],
   "source": [
    "import pandas as pd\n",
    "import matplotlib.pyplot as plt\n",
    "#plt.style.use('dark_background')\n",
    "%matplotlib inline\n",
    "import seaborn as sns\n",
    "#sns.set_style('darkgrid')\n",
    "import numpy as np"
   ]
  },
  {
   "cell_type": "code",
   "execution_count": 46,
   "metadata": {},
   "outputs": [],
   "source": [
    "import tensorflow.keras\n",
    "import tensorflow as tf\n",
    "from tensorflow.keras.models import Model, Sequential, load_model\n",
    "from tensorflow.keras.layers import Dense, Dropout, Flatten ,ZeroPadding2D\n",
    "from tensorflow.keras.layers import Input, Conv2D, MaxPooling2D, Conv3D,MaxPooling3D\n",
    "from tensorflow.keras.layers import BatchNormalization\n",
    "from tensorflow.keras import backend as K\n",
    "from tensorflow.keras.utils import plot_model\n",
    "from tensorflow.keras.initializers import Constant\n",
    "from tensorflow.keras.optimizers import RMSprop\n",
    "from tensorflow.keras.callbacks import ModelCheckpoint, EarlyStopping\n",
    "from scipy import ndimage\n",
    "\n",
    "from tensorflow.keras import layers\n",
    "from tensorflow.keras.optimizers import Adam,Adadelta, Adagrad\n",
    "from tensorflow.keras import models\n",
    "from tensorflow.keras import regularizers\n",
    "\n",
    "from tensorflow.keras.callbacks import EarlyStopping\n",
    "from tensorflow.keras.regularizers import l2\n",
    "\n",
    "from tensorflow.keras import activations\n",
    "from tensorflow.keras import Model\n",
    "\n",
    "from tensorflow.keras.layers import AvgPool2D, MaxPool2D, GlobalAvgPool2D\n",
    "from tensorflow.keras.layers import Add, ReLU, Dense, concatenate\n",
    "\n",
    "from tensorflow.keras.layers import Input, Conv2D, MaxPooling2D, ZeroPadding2D,\\\n",
    "     Flatten, BatchNormalization, AveragePooling2D, Dense, Activation, Add \n",
    "\n",
    "from tensorflow.keras.applications import VGG16,VGG19"
   ]
  },
  {
   "cell_type": "code",
   "execution_count": 1,
   "metadata": {},
   "outputs": [],
   "source": [
    "from sklearn.model_selection import LeaveOneOut, GridSearchCV\n",
    "from sklearn.model_selection import KFold,StratifiedKFold\n",
    "\n",
    "from sklearn.model_selection import cross_val_score\n",
    "from sklearn.metrics import accuracy_score\n",
    "\n",
    "from statistics import mean, stdev \n",
    "from sklearn.metrics import confusion_matrix, classification_report, cohen_kappa_score\n"
   ]
  },
  {
   "cell_type": "markdown",
   "metadata": {},
   "source": [
    "MODEL ARCHITECTURE\n",
    "\n",
    "<img src=\"Modelpic.png\">"
   ]
  },
  {
   "cell_type": "code",
   "execution_count": 7,
   "metadata": {},
   "outputs": [],
   "source": [
    "#only T2tra, ADC, Bval\n",
    "data =pd.read_csv(\"D:/MSCA/CAPSTONE/Experiment/Final.csv\")"
   ]
  },
  {
   "cell_type": "code",
   "execution_count": 8,
   "metadata": {},
   "outputs": [
    {
     "data": {
      "text/html": [
       "<div>\n",
       "<style scoped>\n",
       "    .dataframe tbody tr th:only-of-type {\n",
       "        vertical-align: middle;\n",
       "    }\n",
       "\n",
       "    .dataframe tbody tr th {\n",
       "        vertical-align: top;\n",
       "    }\n",
       "\n",
       "    .dataframe thead th {\n",
       "        text-align: right;\n",
       "    }\n",
       "</style>\n",
       "<table border=\"1\" class=\"dataframe\">\n",
       "  <thead>\n",
       "    <tr style=\"text-align: right;\">\n",
       "      <th></th>\n",
       "      <th>ProxID</th>\n",
       "      <th>Name</th>\n",
       "      <th>fid</th>\n",
       "      <th>pos</th>\n",
       "      <th>ijk</th>\n",
       "      <th>SpacingBetweenSlices</th>\n",
       "      <th>VoxelSpacing</th>\n",
       "      <th>Dim</th>\n",
       "      <th>DCMSerDescr</th>\n",
       "      <th>zone</th>\n",
       "      <th>ggg</th>\n",
       "    </tr>\n",
       "  </thead>\n",
       "  <tbody>\n",
       "    <tr>\n",
       "      <th>0</th>\n",
       "      <td>ProstateX-0000</td>\n",
       "      <td>ep2d_diff_tra_DYNDISTCALC_BVAL0</td>\n",
       "      <td>1</td>\n",
       "      <td>25.7457 31.8707 -38.511</td>\n",
       "      <td>36 72 9</td>\n",
       "      <td>3.0</td>\n",
       "      <td>2,2,3</td>\n",
       "      <td>84x128x19x1</td>\n",
       "      <td>ep2d_diff_tra_DYNDISTCALC_BVAL</td>\n",
       "      <td>PZ</td>\n",
       "      <td>3</td>\n",
       "    </tr>\n",
       "    <tr>\n",
       "      <th>1</th>\n",
       "      <td>ProstateX-0000</td>\n",
       "      <td>ep2d_diff_tra_DYNDIST_ADC0</td>\n",
       "      <td>1</td>\n",
       "      <td>25.7457 31.8707 -38.511</td>\n",
       "      <td>36 72 9</td>\n",
       "      <td>3.0</td>\n",
       "      <td>2,2,3</td>\n",
       "      <td>84x128x19x1</td>\n",
       "      <td>ep2d_diff_tra_DYNDIST_ADC</td>\n",
       "      <td>PZ</td>\n",
       "      <td>3</td>\n",
       "    </tr>\n",
       "    <tr>\n",
       "      <th>2</th>\n",
       "      <td>ProstateX-0000</td>\n",
       "      <td>t2_tse_tra0</td>\n",
       "      <td>1</td>\n",
       "      <td>25.7457 31.8707 -38.511</td>\n",
       "      <td>167 224 9</td>\n",
       "      <td>3.0</td>\n",
       "      <td>0.5,0.5,3</td>\n",
       "      <td>384x384x19x1</td>\n",
       "      <td>t2_tse_tra</td>\n",
       "      <td>PZ</td>\n",
       "      <td>3</td>\n",
       "    </tr>\n",
       "    <tr>\n",
       "      <th>3</th>\n",
       "      <td>ProstateX-0001</td>\n",
       "      <td>t2_tse_tra0</td>\n",
       "      <td>1</td>\n",
       "      <td>-40.5367071921656 29.320722668457 -16.70766907...</td>\n",
       "      <td>157 186 10</td>\n",
       "      <td>3.0</td>\n",
       "      <td>0.5,0.5,3</td>\n",
       "      <td>384x384x19x1</td>\n",
       "      <td>t2_tse_tra</td>\n",
       "      <td>AS</td>\n",
       "      <td>1</td>\n",
       "    </tr>\n",
       "    <tr>\n",
       "      <th>4</th>\n",
       "      <td>ProstateX-0001</td>\n",
       "      <td>ep2d_diff_tra_DYNDIST_MIX_ADC0</td>\n",
       "      <td>1</td>\n",
       "      <td>-40.5367071921656 29.320722668457 -16.70766907...</td>\n",
       "      <td>34 63 10</td>\n",
       "      <td>3.0</td>\n",
       "      <td>2,2,3</td>\n",
       "      <td>84x128x19x1</td>\n",
       "      <td>ep2d_diff_tra_DYNDIST_MIX_ADC</td>\n",
       "      <td>AS</td>\n",
       "      <td>1</td>\n",
       "    </tr>\n",
       "  </tbody>\n",
       "</table>\n",
       "</div>"
      ],
      "text/plain": [
       "           ProxID                             Name  fid  \\\n",
       "0  ProstateX-0000  ep2d_diff_tra_DYNDISTCALC_BVAL0    1   \n",
       "1  ProstateX-0000       ep2d_diff_tra_DYNDIST_ADC0    1   \n",
       "2  ProstateX-0000                      t2_tse_tra0    1   \n",
       "3  ProstateX-0001                      t2_tse_tra0    1   \n",
       "4  ProstateX-0001   ep2d_diff_tra_DYNDIST_MIX_ADC0    1   \n",
       "\n",
       "                                                 pos         ijk  \\\n",
       "0                            25.7457 31.8707 -38.511     36 72 9   \n",
       "1                            25.7457 31.8707 -38.511     36 72 9   \n",
       "2                            25.7457 31.8707 -38.511   167 224 9   \n",
       "3  -40.5367071921656 29.320722668457 -16.70766907...  157 186 10   \n",
       "4  -40.5367071921656 29.320722668457 -16.70766907...    34 63 10   \n",
       "\n",
       "   SpacingBetweenSlices VoxelSpacing           Dim  \\\n",
       "0                   3.0        2,2,3   84x128x19x1   \n",
       "1                   3.0        2,2,3   84x128x19x1   \n",
       "2                   3.0    0.5,0.5,3  384x384x19x1   \n",
       "3                   3.0    0.5,0.5,3  384x384x19x1   \n",
       "4                   3.0        2,2,3   84x128x19x1   \n",
       "\n",
       "                      DCMSerDescr zone  ggg  \n",
       "0  ep2d_diff_tra_DYNDISTCALC_BVAL   PZ    3  \n",
       "1       ep2d_diff_tra_DYNDIST_ADC   PZ    3  \n",
       "2                      t2_tse_tra   PZ    3  \n",
       "3                      t2_tse_tra   AS    1  \n",
       "4   ep2d_diff_tra_DYNDIST_MIX_ADC   AS    1  "
      ]
     },
     "execution_count": 8,
     "metadata": {},
     "output_type": "execute_result"
    }
   ],
   "source": [
    "data.head(5)"
   ]
  },
  {
   "cell_type": "code",
   "execution_count": 9,
   "metadata": {},
   "outputs": [
    {
     "data": {
      "text/html": [
       "<div>\n",
       "<style scoped>\n",
       "    .dataframe tbody tr th:only-of-type {\n",
       "        vertical-align: middle;\n",
       "    }\n",
       "\n",
       "    .dataframe tbody tr th {\n",
       "        vertical-align: top;\n",
       "    }\n",
       "\n",
       "    .dataframe thead th {\n",
       "        text-align: right;\n",
       "    }\n",
       "</style>\n",
       "<table border=\"1\" class=\"dataframe\">\n",
       "  <thead>\n",
       "    <tr style=\"text-align: right;\">\n",
       "      <th></th>\n",
       "      <th>ProxID</th>\n",
       "      <th>Name</th>\n",
       "      <th>fid</th>\n",
       "      <th>pos</th>\n",
       "      <th>ijk</th>\n",
       "      <th>SpacingBetweenSlices</th>\n",
       "      <th>VoxelSpacing</th>\n",
       "      <th>Dim</th>\n",
       "      <th>DCMSerDescr</th>\n",
       "      <th>zone</th>\n",
       "    </tr>\n",
       "    <tr>\n",
       "      <th>ggg</th>\n",
       "      <th></th>\n",
       "      <th></th>\n",
       "      <th></th>\n",
       "      <th></th>\n",
       "      <th></th>\n",
       "      <th></th>\n",
       "      <th></th>\n",
       "      <th></th>\n",
       "      <th></th>\n",
       "      <th></th>\n",
       "    </tr>\n",
       "  </thead>\n",
       "  <tbody>\n",
       "    <tr>\n",
       "      <th>1</th>\n",
       "      <td>108</td>\n",
       "      <td>108</td>\n",
       "      <td>108</td>\n",
       "      <td>108</td>\n",
       "      <td>108</td>\n",
       "      <td>108</td>\n",
       "      <td>108</td>\n",
       "      <td>108</td>\n",
       "      <td>108</td>\n",
       "      <td>108</td>\n",
       "    </tr>\n",
       "    <tr>\n",
       "      <th>2</th>\n",
       "      <td>123</td>\n",
       "      <td>123</td>\n",
       "      <td>123</td>\n",
       "      <td>123</td>\n",
       "      <td>123</td>\n",
       "      <td>123</td>\n",
       "      <td>123</td>\n",
       "      <td>123</td>\n",
       "      <td>123</td>\n",
       "      <td>123</td>\n",
       "    </tr>\n",
       "    <tr>\n",
       "      <th>3</th>\n",
       "      <td>60</td>\n",
       "      <td>60</td>\n",
       "      <td>60</td>\n",
       "      <td>60</td>\n",
       "      <td>60</td>\n",
       "      <td>60</td>\n",
       "      <td>60</td>\n",
       "      <td>60</td>\n",
       "      <td>60</td>\n",
       "      <td>60</td>\n",
       "    </tr>\n",
       "    <tr>\n",
       "      <th>4</th>\n",
       "      <td>24</td>\n",
       "      <td>24</td>\n",
       "      <td>24</td>\n",
       "      <td>24</td>\n",
       "      <td>24</td>\n",
       "      <td>24</td>\n",
       "      <td>24</td>\n",
       "      <td>24</td>\n",
       "      <td>24</td>\n",
       "      <td>24</td>\n",
       "    </tr>\n",
       "    <tr>\n",
       "      <th>5</th>\n",
       "      <td>21</td>\n",
       "      <td>21</td>\n",
       "      <td>21</td>\n",
       "      <td>21</td>\n",
       "      <td>21</td>\n",
       "      <td>21</td>\n",
       "      <td>21</td>\n",
       "      <td>21</td>\n",
       "      <td>21</td>\n",
       "      <td>21</td>\n",
       "    </tr>\n",
       "  </tbody>\n",
       "</table>\n",
       "</div>"
      ],
      "text/plain": [
       "     ProxID  Name  fid  pos  ijk  SpacingBetweenSlices  VoxelSpacing  Dim  \\\n",
       "ggg                                                                         \n",
       "1       108   108  108  108  108                   108           108  108   \n",
       "2       123   123  123  123  123                   123           123  123   \n",
       "3        60    60   60   60   60                    60            60   60   \n",
       "4        24    24   24   24   24                    24            24   24   \n",
       "5        21    21   21   21   21                    21            21   21   \n",
       "\n",
       "     DCMSerDescr  zone  \n",
       "ggg                     \n",
       "1            108   108  \n",
       "2            123   123  \n",
       "3             60    60  \n",
       "4             24    24  \n",
       "5             21    21  "
      ]
     },
     "execution_count": 9,
     "metadata": {},
     "output_type": "execute_result"
    }
   ],
   "source": [
    "data.groupby('ggg').count()"
   ]
  },
  {
   "cell_type": "code",
   "execution_count": 76,
   "metadata": {},
   "outputs": [
    {
     "data": {
      "text/plain": [
       "ProstateX-0196    9\n",
       "ProstateX-0173    6\n",
       "ProstateX-0121    6\n",
       "ProstateX-0031    6\n",
       "ProstateX-0150    6\n",
       "ProstateX-0122    6\n",
       "ProstateX-0179    6\n",
       "ProstateX-0005    6\n",
       "ProstateX-0139    6\n",
       "ProstateX-0199    6\n",
       "ProstateX-0203    6\n",
       "ProstateX-0002    6\n",
       "ProstateX-0183    3\n",
       "Name: ProxID, dtype: int64"
      ]
     },
     "execution_count": 76,
     "metadata": {},
     "output_type": "execute_result"
    }
   ],
   "source": [
    "#Patients with more than 1 lesion\n",
    "(data['ProxID'].value_counts())[:13]\n",
    "\n",
    "#There are 12 patients with more than 1 lesion(1 patient with 3 lesions- 3*3MRI sequences=9, Similarly 11 patients with 2 lesions )"
   ]
  },
  {
   "cell_type": "markdown",
   "metadata": {},
   "source": [
    "## CONTRAST STRETCHING\n"
   ]
  },
  {
   "cell_type": "code",
   "execution_count": 48,
   "metadata": {},
   "outputs": [],
   "source": [
    "t2_samples1 = np.load('D:/MSCA/CAPSTONE/Experiment/3D/Resized/Contra/order/t2tra/X_train_ijk.npy')\n",
    "t2_labels1 = np.load('D:/MSCA/CAPSTONE/Experiment/3D/Resized/Contra/order/t2tra/Y_train_ijk.npy')\n",
    "\n",
    "t2_samples2 = np.load('D:/MSCA/CAPSTONE/Experiment/3D/Resized/Contra/order/adc/X_train_ijk.npy')\n",
    "t2_labels2 = np.load('D:/MSCA/CAPSTONE/Experiment/3D/Resized/Contra/order/adc/Y_train_ijk.npy')\n",
    "\n",
    "t2_samples3 = np.load('D:/MSCA/CAPSTONE/Experiment/3D/Resized/Contra/order/bval/X_train_ijk.npy')\n",
    "t2_labels3 = np.load('D:/MSCA/CAPSTONE/Experiment/3D/Resized/Contra/order/bval/Y_train_ijk.npy')"
   ]
  },
  {
   "cell_type": "code",
   "execution_count": 49,
   "metadata": {},
   "outputs": [],
   "source": [
    "t2_samples1 = np.array(t2_samples1, dtype=np.float32, copy = True)\n",
    "t2_samples2 = np.array(t2_samples2, dtype=np.float32, copy = True)\n",
    "t2_samples3 = np.array(t2_samples3, dtype=np.float32, copy = True)"
   ]
  },
  {
   "cell_type": "code",
   "execution_count": 8,
   "metadata": {},
   "outputs": [
    {
     "data": {
      "text/plain": [
       "True"
      ]
     },
     "execution_count": 8,
     "metadata": {},
     "output_type": "execute_result"
    }
   ],
   "source": [
    "np.array_equal(t2_labels1,t2_labels3)  # T2 and bval are in same order---same patch same grade"
   ]
  },
  {
   "cell_type": "code",
   "execution_count": 9,
   "metadata": {},
   "outputs": [
    {
     "data": {
      "text/plain": [
       "True"
      ]
     },
     "execution_count": 9,
     "metadata": {},
     "output_type": "execute_result"
    }
   ],
   "source": [
    "np.array_equal(t2_labels1,t2_labels2) # T2 and adc are in same order---same patch same grade"
   ]
  },
  {
   "cell_type": "code",
   "execution_count": 50,
   "metadata": {},
   "outputs": [
    {
     "name": "stdout",
     "output_type": "stream",
     "text": [
      "X_t2_train shape:  (89, 224, 224, 3) \n",
      "Y_t2_train shape:  (89,)\n",
      "X_t2_test shape:  (23, 224, 224, 3) \n",
      "Y_t2_test shape:  (23,)\n"
     ]
    }
   ],
   "source": [
    "from sklearn.model_selection import train_test_split\n",
    "x_t2_train, x_t2_test, y_t2_train, y_t2_test = train_test_split(t2_samples1, t2_labels1, test_size=0.20, random_state=seed_value,shuffle=True, stratify=t2_labels1)\n",
    "\n",
    "print(\"X_t2_train shape: \",x_t2_train.shape, \"\\nY_t2_train shape: \",y_t2_train.shape)\n",
    "print(\"X_t2_test shape: \",x_t2_test.shape, \"\\nY_t2_test shape: \",y_t2_test.shape)\n"
   ]
  },
  {
   "cell_type": "code",
   "execution_count": 51,
   "metadata": {},
   "outputs": [
    {
     "name": "stdout",
     "output_type": "stream",
     "text": [
      "X_adc_train shape:  (89, 224, 224, 3) \n",
      "Y_adc_train shape:  (89,)\n",
      "X_adc_test shape:  (23, 224, 224, 3) \n",
      "Y_adc_test shape:  (23,)\n"
     ]
    }
   ],
   "source": [
    "from sklearn.model_selection import train_test_split\n",
    "x_adc_train, x_adc_test, y_adc_train, y_adc_test = train_test_split(t2_samples2, t2_labels2, test_size=0.20, random_state=seed_value,shuffle=True, stratify=t2_labels2)\n",
    "\n",
    "print(\"X_adc_train shape: \",x_adc_train.shape, \"\\nY_adc_train shape: \",y_adc_train.shape)\n",
    "print(\"X_adc_test shape: \",x_adc_test.shape, \"\\nY_adc_test shape: \",y_adc_test.shape)\n"
   ]
  },
  {
   "cell_type": "code",
   "execution_count": 52,
   "metadata": {},
   "outputs": [
    {
     "name": "stdout",
     "output_type": "stream",
     "text": [
      "X_bval_train shape:  (89, 224, 224, 3) \n",
      "Y_bval_train shape:  (89,)\n",
      "X_bval_test shape:  (23, 224, 224, 3) \n",
      "Y_bval_test shape:  (23,)\n"
     ]
    }
   ],
   "source": [
    "from sklearn.model_selection import train_test_split\n",
    "x_bval_train, x_bval_test, y_bval_train, y_bval_test = train_test_split(t2_samples3, t2_labels3, test_size=0.20, random_state=seed_value,shuffle=True, stratify=t2_labels3)\n",
    "\n",
    "print(\"X_bval_train shape: \",x_bval_train.shape, \"\\nY_bval_train shape: \",y_bval_train.shape)\n",
    "print(\"X_bval_test shape: \",x_bval_test.shape, \"\\nY_bval_test shape: \",y_bval_test.shape)\n"
   ]
  },
  {
   "cell_type": "code",
   "execution_count": 12,
   "metadata": {},
   "outputs": [
    {
     "data": {
      "text/plain": [
       "True"
      ]
     },
     "execution_count": 12,
     "metadata": {},
     "output_type": "execute_result"
    }
   ],
   "source": [
    "np.array_equal(y_t2_train,y_adc_train) # T2 and adc are in same order---same patch same grade"
   ]
  },
  {
   "cell_type": "code",
   "execution_count": 13,
   "metadata": {},
   "outputs": [
    {
     "data": {
      "text/plain": [
       "True"
      ]
     },
     "execution_count": 13,
     "metadata": {},
     "output_type": "execute_result"
    }
   ],
   "source": [
    "np.array_equal(y_t2_test,y_adc_test) # T2 and adc are in same order---same patch same grade"
   ]
  },
  {
   "cell_type": "code",
   "execution_count": 123,
   "metadata": {},
   "outputs": [
    {
     "data": {
      "text/plain": [
       "True"
      ]
     },
     "execution_count": 123,
     "metadata": {},
     "output_type": "execute_result"
    }
   ],
   "source": [
    "np.array_equal(y_t2_train,y_bval_train)"
   ]
  },
  {
   "cell_type": "code",
   "execution_count": 124,
   "metadata": {},
   "outputs": [
    {
     "data": {
      "text/plain": [
       "True"
      ]
     },
     "execution_count": 124,
     "metadata": {},
     "output_type": "execute_result"
    }
   ],
   "source": [
    "np.array_equal(y_t2_test,y_bval_test)"
   ]
  },
  {
   "cell_type": "code",
   "execution_count": 125,
   "metadata": {},
   "outputs": [
    {
     "data": {
      "text/plain": [
       "{1: 29, 2: 33, 3: 16, 4: 6, 5: 5}"
      ]
     },
     "execution_count": 125,
     "metadata": {},
     "output_type": "execute_result"
    }
   ],
   "source": [
    "unique, counts = np.unique(y_bval_train, return_counts=True)\n",
    "dict(zip(unique, counts))"
   ]
  },
  {
   "cell_type": "code",
   "execution_count": 126,
   "metadata": {},
   "outputs": [
    {
     "data": {
      "text/plain": [
       "{1: 29, 2: 33, 3: 16, 4: 6, 5: 5}"
      ]
     },
     "execution_count": 126,
     "metadata": {},
     "output_type": "execute_result"
    }
   ],
   "source": [
    "unique, counts = np.unique(y_adc_train, return_counts=True)\n",
    "dict(zip(unique, counts))"
   ]
  },
  {
   "cell_type": "code",
   "execution_count": 20,
   "metadata": {},
   "outputs": [
    {
     "data": {
      "text/plain": [
       "{1: 7, 2: 8, 3: 4, 4: 2, 5: 2}"
      ]
     },
     "execution_count": 20,
     "metadata": {},
     "output_type": "execute_result"
    }
   ],
   "source": [
    "unique, counts = np.unique(y_adc_test, return_counts=True)\n",
    "dict(zip(unique, counts))"
   ]
  },
  {
   "cell_type": "code",
   "execution_count": 21,
   "metadata": {},
   "outputs": [
    {
     "data": {
      "text/plain": [
       "{1: 7, 2: 8, 3: 4, 4: 2, 5: 2}"
      ]
     },
     "execution_count": 21,
     "metadata": {},
     "output_type": "execute_result"
    }
   ],
   "source": [
    "unique, counts = np.unique(y_t2_test, return_counts=True)\n",
    "dict(zip(unique, counts))"
   ]
  },
  {
   "cell_type": "markdown",
   "metadata": {},
   "source": [
    "## DATA AUGMENTATION ON TRAIN"
   ]
  },
  {
   "cell_type": "code",
   "execution_count": 53,
   "metadata": {},
   "outputs": [],
   "source": [
    "## T2\n",
    "\n",
    "image1 = np.empty([89, 224, 224, 3])  \n",
    "image2 = np.empty([89, 224, 224, 3])\n",
    "\n",
    "\n",
    "for i in range (0,len(x_t2_train)):\n",
    "    T=x_t2_train[i]\n",
    "    angles = [80.0, 170, -170.0, -80.0]\n",
    "    # pick angles at random\n",
    "    angle = random.choice(angles)\n",
    "    image1[i] = ndimage.interpolation.rotate(T, angle, mode='nearest', axes=(0, 1), reshape=False)# rotating in xy plane\n",
    "    angle = random.choice(angles)\n",
    "    image2[i] = ndimage.interpolation.rotate(T, angle, mode='nearest', axes=(0, 1), reshape=False)"
   ]
  },
  {
   "cell_type": "code",
   "execution_count": 54,
   "metadata": {},
   "outputs": [],
   "source": [
    "x_t2_train = np.concatenate((x_t2_train, image1, image2), axis=0)\n",
    "y_t2_train = np.concatenate((y_t2_train, y_t2_train, y_t2_train), axis=0)"
   ]
  },
  {
   "cell_type": "code",
   "execution_count": 55,
   "metadata": {},
   "outputs": [],
   "source": [
    "## ADC\n",
    "\n",
    "image1 = np.empty([89, 224, 224, 3])  # Shape of train\n",
    "image2 = np.empty([89, 224, 224, 3])\n",
    "\n",
    "\n",
    "for i in range (0,len(x_adc_train)):\n",
    "    T=x_adc_train[i]\n",
    "    angles = [80.0, 170, -170.0, -80.0]\n",
    "    # pick angles at random\n",
    "    angle = random.choice(angles)\n",
    "    image1[i] = ndimage.interpolation.rotate(T, angle, mode='nearest', axes=(0, 1), reshape=False)\n",
    "    angle = random.choice(angles)\n",
    "    image2[i] = ndimage.interpolation.rotate(T, angle, mode='nearest', axes=(0, 1), reshape=False)"
   ]
  },
  {
   "cell_type": "code",
   "execution_count": 56,
   "metadata": {},
   "outputs": [],
   "source": [
    "x_adc_train = np.concatenate((x_adc_train, image1, image2), axis=0)\n",
    "y_adc_train = np.concatenate((y_adc_train, y_adc_train, y_adc_train), axis=0)"
   ]
  },
  {
   "cell_type": "code",
   "execution_count": 57,
   "metadata": {},
   "outputs": [],
   "source": [
    "## BVal\n",
    "\n",
    "image1 = np.empty([89, 224, 224, 3])  \n",
    "image2 = np.empty([89, 224, 224, 3])\n",
    "\n",
    "\n",
    "for i in range (0,len(x_bval_train)):\n",
    "    T=x_bval_train[i]\n",
    "    angles = [80.0, 170, -170.0, -80.0]\n",
    "    # pick angles at random\n",
    "    angle = random.choice(angles)\n",
    "    image1[i] = ndimage.interpolation.rotate(T, angle, mode='nearest', axes=(0, 1), reshape=False)\n",
    "    angle = random.choice(angles)\n",
    "    image2[i] = ndimage.interpolation.rotate(T, angle, mode='nearest', axes=(0, 1), reshape=False)"
   ]
  },
  {
   "cell_type": "code",
   "execution_count": 58,
   "metadata": {},
   "outputs": [],
   "source": [
    "x_bval_train = np.concatenate((x_bval_train, image1, image2), axis=0)\n",
    "y_bval_train = np.concatenate((y_bval_train, y_bval_train, y_bval_train), axis=0)"
   ]
  },
  {
   "cell_type": "code",
   "execution_count": 19,
   "metadata": {},
   "outputs": [
    {
     "data": {
      "text/plain": [
       "True"
      ]
     },
     "execution_count": 19,
     "metadata": {},
     "output_type": "execute_result"
    }
   ],
   "source": [
    "np.array_equal(y_adc_train,y_bval_train)"
   ]
  },
  {
   "cell_type": "code",
   "execution_count": 20,
   "metadata": {},
   "outputs": [
    {
     "data": {
      "text/plain": [
       "True"
      ]
     },
     "execution_count": 20,
     "metadata": {},
     "output_type": "execute_result"
    }
   ],
   "source": [
    "np.array_equal(y_t2_train,y_bval_train)"
   ]
  },
  {
   "cell_type": "code",
   "execution_count": 21,
   "metadata": {},
   "outputs": [
    {
     "name": "stdout",
     "output_type": "stream",
     "text": [
      "X_adc_train shape:  (267, 224, 224, 3) \n",
      "Y_adc_train shape:  (267,)\n",
      "X_adc_test shape:  (23, 224, 224, 3) \n",
      "Y_adc_test shape:  (23,)\n"
     ]
    }
   ],
   "source": [
    "# should be same for adc, bval and t2\n",
    "\n",
    "print(\"X_adc_train shape: \",x_adc_train.shape, \"\\nY_adc_train shape: \",y_adc_train.shape)\n",
    "print(\"X_adc_test shape: \",x_adc_test.shape, \"\\nY_adc_test shape: \",y_adc_test.shape)\n"
   ]
  },
  {
   "cell_type": "code",
   "execution_count": 59,
   "metadata": {},
   "outputs": [],
   "source": [
    "x_adc_train= (np.expand_dims(x_adc_train, axis = 4))\n",
    "x_t2_train= (np.expand_dims(x_t2_train, axis = 4))\n",
    "x_bval_train= (np.expand_dims(x_bval_train, axis = 4))"
   ]
  },
  {
   "cell_type": "code",
   "execution_count": 60,
   "metadata": {},
   "outputs": [],
   "source": [
    "x_adc_test= (np.expand_dims(x_adc_test, axis = 4))\n",
    "x_t2_test= (np.expand_dims(x_t2_test, axis = 4))\n",
    "x_bval_test= (np.expand_dims(x_bval_test, axis = 4))"
   ]
  },
  {
   "cell_type": "code",
   "execution_count": 61,
   "metadata": {},
   "outputs": [
    {
     "data": {
      "text/plain": [
       "(267, 224, 224, 3, 1)"
      ]
     },
     "execution_count": 61,
     "metadata": {},
     "output_type": "execute_result"
    }
   ],
   "source": [
    "x_adc_train.shape"
   ]
  },
  {
   "cell_type": "code",
   "execution_count": 25,
   "metadata": {},
   "outputs": [
    {
     "data": {
      "text/plain": [
       "(23, 224, 224, 3, 1)"
      ]
     },
     "execution_count": 25,
     "metadata": {},
     "output_type": "execute_result"
    }
   ],
   "source": [
    "x_bval_test.shape"
   ]
  },
  {
   "cell_type": "code",
   "execution_count": null,
   "metadata": {},
   "outputs": [],
   "source": [
    "#Feature extraction for Train data"
   ]
  },
  {
   "cell_type": "code",
   "execution_count": 52,
   "metadata": {},
   "outputs": [
    {
     "name": "stdout",
     "output_type": "stream",
     "text": [
      "(267, 1000)\n"
     ]
    }
   ],
   "source": [
    "# example of using the vgg16 model as a feature extraction model\n",
    "\n",
    "#@tf.function\n",
    "\n",
    "from pickle import dump\n",
    "\n",
    "\n",
    "\n",
    "# load model\n",
    "model = VGG16()\n",
    "# remove the output layer\n",
    "model = Model(inputs=model.inputs, outputs=model.output)\n",
    "# get extracted features\n",
    "group_t2 = x_t2_train \n",
    "#image.shape\n",
    "features = model.predict(group_t2)\n",
    "print(features.shape)\n",
    "# save to file\n",
    "dump(features, open('group_t2.npy', 'wb'))"
   ]
  },
  {
   "cell_type": "code",
   "execution_count": 53,
   "metadata": {},
   "outputs": [
    {
     "name": "stdout",
     "output_type": "stream",
     "text": [
      "(267, 1000)\n"
     ]
    }
   ],
   "source": [
    "from pickle import dump\n",
    "\n",
    "# load model\n",
    "model = VGG16()\n",
    "# remove the output layer\n",
    "model = Model(inputs=model.inputs, outputs=model.output)\n",
    "# get extracted features\n",
    "group_adc = x_adc_train \n",
    "#image.shape\n",
    "features = model.predict(group_adc)\n",
    "print(features.shape)\n",
    "# save to file\n",
    "dump(features, open('group_adc.npy', 'wb'))"
   ]
  },
  {
   "cell_type": "code",
   "execution_count": 54,
   "metadata": {},
   "outputs": [
    {
     "name": "stdout",
     "output_type": "stream",
     "text": [
      "(267, 1000)\n"
     ]
    }
   ],
   "source": [
    "from pickle import dump\n",
    "\n",
    "# load model\n",
    "model = VGG16()\n",
    "# remove the output layer\n",
    "model = Model(inputs=model.inputs, outputs=model.output)\n",
    "# get extracted features\n",
    "group_bval = x_bval_train \n",
    "#image.shape\n",
    "features = model.predict(group_bval)\n",
    "print(features.shape)\n",
    "# save to file\n",
    "dump(features, open('group_bval.npy', 'wb'))"
   ]
  },
  {
   "cell_type": "code",
   "execution_count": 62,
   "metadata": {},
   "outputs": [],
   "source": [
    "x_t2 = np.load('D:/MSCA/CAPSTONE/Experiment/3D/Resized/Contra/order/TrainTest/group_t2.npy',allow_pickle=True)\n",
    "x_adc = np.load('D:/MSCA/CAPSTONE/Experiment/3D/Resized/Contra/order/TrainTest/group_adc.npy',allow_pickle=True)\n",
    "x_bval = np.load('D:/MSCA/CAPSTONE/Experiment/3D/Resized/Contra/order/TrainTest/group_bval.npy',allow_pickle=True)"
   ]
  },
  {
   "cell_type": "code",
   "execution_count": 63,
   "metadata": {},
   "outputs": [
    {
     "data": {
      "text/plain": [
       "(267, 3000)"
      ]
     },
     "execution_count": 63,
     "metadata": {},
     "output_type": "execute_result"
    }
   ],
   "source": [
    "# concatenate 3 train groups\n",
    "X_train = np.concatenate((x_t2, x_adc,x_bval), axis=1)\n",
    "X_train.shape"
   ]
  },
  {
   "cell_type": "code",
   "execution_count": null,
   "metadata": {},
   "outputs": [],
   "source": [
    "#Feature extraction for Test data"
   ]
  },
  {
   "cell_type": "code",
   "execution_count": 57,
   "metadata": {},
   "outputs": [
    {
     "name": "stdout",
     "output_type": "stream",
     "text": [
      "(23, 1000)\n"
     ]
    }
   ],
   "source": [
    "# load model\n",
    "\n",
    "model = VGG16()\n",
    "# remove the output layer\n",
    "model = Model(inputs=model.inputs, outputs=model.output)\n",
    "# get extracted features\n",
    "group_t2 = x_t2_test\n",
    "#image.shape\n",
    "features = model.predict(group_t2)\n",
    "print(features.shape)\n",
    "# save to file\n",
    "dump(features, open('group_t2_test.npy', 'wb'))"
   ]
  },
  {
   "cell_type": "code",
   "execution_count": 58,
   "metadata": {},
   "outputs": [
    {
     "name": "stdout",
     "output_type": "stream",
     "text": [
      "(23, 1000)\n"
     ]
    }
   ],
   "source": [
    "model = VGG16()\n",
    "# remove the output layer\n",
    "model = Model(inputs=model.inputs, outputs=model.output)\n",
    "# get extracted features\n",
    "group_adc = x_adc_test\n",
    "#image.shape\n",
    "features = model.predict(group_adc)\n",
    "print(features.shape)\n",
    "# save to file\n",
    "dump(features, open('group_adc_test.npy', 'wb'))"
   ]
  },
  {
   "cell_type": "code",
   "execution_count": 59,
   "metadata": {},
   "outputs": [
    {
     "name": "stdout",
     "output_type": "stream",
     "text": [
      "(23, 1000)\n"
     ]
    }
   ],
   "source": [
    "model = VGG16()\n",
    "# remove the output layer\n",
    "model = Model(inputs=model.inputs, outputs=model.output)\n",
    "# get extracted features\n",
    "group_bval = x_bval_test\n",
    "#image.shape\n",
    "features = model.predict(group_bval)\n",
    "print(features.shape)\n",
    "# save to file\n",
    "dump(features, open('group_bval_test.npy', 'wb'))"
   ]
  },
  {
   "cell_type": "code",
   "execution_count": 64,
   "metadata": {},
   "outputs": [],
   "source": [
    "x_t2 = np.load('D:/MSCA/CAPSTONE/Experiment/3D/Resized/Contra/order/TrainTest/group_t2_test.npy',allow_pickle=True)\n",
    "x_adc = np.load('D:/MSCA/CAPSTONE/Experiment/3D/Resized/Contra/order/TrainTest/group_adc_test.npy',allow_pickle=True)\n",
    "x_bval = np.load('D:/MSCA/CAPSTONE/Experiment/3D/Resized/Contra/order/TrainTest/group_bval_test.npy',allow_pickle=True)"
   ]
  },
  {
   "cell_type": "code",
   "execution_count": 65,
   "metadata": {},
   "outputs": [
    {
     "data": {
      "text/plain": [
       "(23, 3000)"
      ]
     },
     "execution_count": 65,
     "metadata": {},
     "output_type": "execute_result"
    }
   ],
   "source": [
    "# concatenate 3 train groups\n",
    "X_test = np.concatenate((x_t2, x_adc,x_bval), axis=1)\n",
    "X_test.shape"
   ]
  },
  {
   "cell_type": "markdown",
   "metadata": {},
   "source": [
    "## FINAL- TRAIN, TEST"
   ]
  },
  {
   "cell_type": "code",
   "execution_count": 66,
   "metadata": {},
   "outputs": [
    {
     "name": "stdout",
     "output_type": "stream",
     "text": [
      "X_train shape:  (267, 3000) \n",
      "Y_adc_train shape:  (267,)\n",
      "X_test shape:  (23, 3000) \n",
      "Y_adc_test shape:  (23,)\n"
     ]
    }
   ],
   "source": [
    "y_train = y_t2_train\n",
    "y_test = y_adc_test\n",
    "\n",
    "\n",
    "print(\"X_train shape: \",X_train.shape, \"\\nY_adc_train shape: \",y_train.shape)\n",
    "print(\"X_test shape: \",X_test.shape, \"\\nY_adc_test shape: \",y_test.shape)\n"
   ]
  },
  {
   "cell_type": "markdown",
   "metadata": {},
   "source": [
    "## PCA"
   ]
  },
  {
   "cell_type": "code",
   "execution_count": 67,
   "metadata": {},
   "outputs": [],
   "source": [
    "from sklearn.decomposition import PCA, KernelPCA"
   ]
  },
  {
   "cell_type": "code",
   "execution_count": 68,
   "metadata": {},
   "outputs": [],
   "source": [
    "#pca = KernelPCA(n_components=32,kernel='linear') #kernel{‘linear’, ‘poly’, ‘rbf’, ‘sigmoid’, ‘cosine’, ‘precomputed’}, default=’linear’\n",
    "pca = KernelPCA(n_components=32,kernel='poly')\n",
    "pca.fit(X_train)\n",
    "x_train = pca.transform(X_train)"
   ]
  },
  {
   "cell_type": "code",
   "execution_count": 69,
   "metadata": {},
   "outputs": [],
   "source": [
    "x_test = pca.transform(X_test)"
   ]
  },
  {
   "cell_type": "code",
   "execution_count": 70,
   "metadata": {},
   "outputs": [
    {
     "name": "stdout",
     "output_type": "stream",
     "text": [
      "(267, 32)\n",
      "(23, 32)\n"
     ]
    }
   ],
   "source": [
    "print(x_train.shape)\n",
    "print(x_test.shape)\n"
   ]
  },
  {
   "cell_type": "markdown",
   "metadata": {},
   "source": [
    "## ORDINAL CLASS CLASSIFIER"
   ]
  },
  {
   "cell_type": "code",
   "execution_count": 72,
   "metadata": {},
   "outputs": [],
   "source": [
    "#Decision Tree/J48/C4.5\n",
    "\n",
    "from sklearn import tree\n",
    "from sklearn.tree import DecisionTreeClassifier\n",
    "model = tree.DecisionTreeClassifier(random_state=seed_value)"
   ]
  },
  {
   "cell_type": "code",
   "execution_count": 73,
   "metadata": {},
   "outputs": [],
   "source": [
    "#with K-fold and GridsearchCV\n",
    "\n",
    "tuned_parameters = {'max_depth': np.arange(2,10),'min_samples_leaf': np.arange(5,30),\"criterion\":[\"gini\",\"entropy\"],\"min_impurity_decrease\":[1e-07,1e-06,1e-05,1e-04,1e-03,1e-02,1e-01,1]}\n",
    "\n",
    "inner_cv = StratifiedKFold(n_splits=10, shuffle=True,random_state=seed_value)\n",
    "\n",
    "grid_tree = GridSearchCV(model,tuned_parameters, cv = inner_cv, scoring='accuracy', n_jobs = -1)\n",
    "grid_tree.fit(x_train,y_train)\n",
    "\n",
    "# Nested CV with parameter optimization\n",
    "nested_score = cross_val_score(grid_tree, x_train, y_train, cv=inner_cv)"
   ]
  },
  {
   "cell_type": "code",
   "execution_count": 39,
   "metadata": {},
   "outputs": [
    {
     "name": "stdout",
     "output_type": "stream",
     "text": [
      "Using Nested CV with grid search,accuracy: 43.87% +/- 11.86%\n",
      "\n",
      "The best hyper-parameters to get this accuracy is :-\n",
      " {'criterion': 'gini', 'max_depth': 5, 'min_impurity_decrease': 1e-07, 'min_samples_leaf': 17}\n",
      "\n",
      "The best decision tree classifier is :-\n",
      " DecisionTreeClassifier(ccp_alpha=0.0, class_weight=None, criterion='gini',\n",
      "                       max_depth=5, max_features=None, max_leaf_nodes=None,\n",
      "                       min_impurity_decrease=1e-07, min_impurity_split=None,\n",
      "                       min_samples_leaf=17, min_samples_split=2,\n",
      "                       min_weight_fraction_leaf=0.0, presort='deprecated',\n",
      "                       random_state=123, splitter='best')\n",
      "Confusion Matrix: - \n",
      " [[4 1 2 0 0]\n",
      " [2 5 1 0 0]\n",
      " [2 1 1 0 0]\n",
      " [0 1 1 0 0]\n",
      " [0 2 0 0 0]]\n",
      "Classification Report: - \n",
      "               precision    recall  f1-score   support\n",
      "\n",
      "           1       0.50      0.57      0.53         7\n",
      "           2       0.50      0.62      0.56         8\n",
      "           3       0.20      0.25      0.22         4\n",
      "           4       0.00      0.00      0.00         2\n",
      "           5       0.00      0.00      0.00         2\n",
      "\n",
      "    accuracy                           0.43        23\n",
      "   macro avg       0.24      0.29      0.26        23\n",
      "weighted avg       0.36      0.43      0.39        23\n",
      "\n",
      "kappa score : - \n",
      " 0.19839142091152828\n",
      "Test Accuracy: - \n",
      " 0.43478260869565216\n"
     ]
    },
    {
     "name": "stderr",
     "output_type": "stream",
     "text": [
      "D:\\Anaconda\\lib\\site-packages\\sklearn\\metrics\\_classification.py:1272: UndefinedMetricWarning: Precision and F-score are ill-defined and being set to 0.0 in labels with no predicted samples. Use `zero_division` parameter to control this behavior.\n",
      "  _warn_prf(average, modifier, msg_start, len(result))\n"
     ]
    },
    {
     "data": {
      "image/png": "[encoded data removed]",
      "text/plain": [
       "<Figure size 432x288 with 2 Axes>"
      ]
     },
     "metadata": {
      "needs_background": "light"
     },
     "output_type": "display_data"
    }
   ],
   "source": [
    "# Mean Accuracy with +/- 2 std deviations\n",
    "print(\"Using Nested CV with grid search,accuracy: {0:.2%} +/- {1:.2%}\".format(nested_score.mean(), nested_score.std() * 2))\n",
    "print()\n",
    "print (\"The best hyper-parameters to get this accuracy is :-\\n\", grid_tree.best_params_)\n",
    "print()\n",
    "print (\"The best decision tree classifier is :-\\n\", grid_tree.best_estimator_)\n",
    "y_pred = grid_tree.best_estimator_.predict(x_test)\n",
    "\n",
    "#Goodness Measures confusion matrix and other measures like accuracy, precision,recall\n",
    "cm=confusion_matrix(y_test, y_pred)\n",
    "print(\"Confusion Matrix: - \\n\",cm)\n",
    "sns.heatmap(cm/np.sum(cm), annot=True,fmt='.2%', cmap='Blues')\n",
    "print(\"Classification Report: - \\n\",classification_report(y_test, y_pred))\n",
    "print(\"kappa score : - \\n\",cohen_kappa_score(y_test, y_pred))\n",
    "print(\"Test Accuracy: - \\n\",accuracy_score(y_test, y_pred))"
   ]
  }
 ],
 "metadata": {
  "kernelspec": {
   "display_name": "Python 3",
   "language": "python",
   "name": "python3"
  },
  "language_info": {
   "codemirror_mode": {
    "name": "ipython",
    "version": 3
   },
   "file_extension": ".py",
   "mimetype": "text/x-python",
   "name": "python",
   "nbconvert_exporter": "python",
   "pygments_lexer": "ipython3",
   "version": "3.7.4"
  }
 },
 "nbformat": 4,
 "nbformat_minor": 4
}
